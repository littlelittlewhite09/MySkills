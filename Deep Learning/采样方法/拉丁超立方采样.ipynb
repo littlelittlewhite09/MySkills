{
 "cells": [
  {
   "cell_type": "code",
   "execution_count": 36,
   "metadata": {},
   "outputs": [],
   "source": [
    "import numpy as np\n",
    "import matplotlib.pyplot as plt\n",
    "from matplotlib.ticker import MultipleLocator, FuncFormatter"
   ]
  },
  {
   "cell_type": "markdown",
   "metadata": {},
   "source": [
    "# 拉丁超立方采样步骤（采样N个样本点）\n",
    "## 1.将每个维度分成N个区间,使得每个区间有相同概率\n",
    "## 2.在每个维度的每一个区间中随机地抽取一个点（本次按均匀分布抽取）\n",
    "## 3.从每一维中里随机抽出2.中选取的点，将它们组成向量"
   ]
  },
  {
   "cell_type": "code",
   "execution_count": 46,
   "metadata": {},
   "outputs": [],
   "source": [
    "def lHSample(D,bound,N):\n",
    "    '''\n",
    "    @param\n",
    "    D:维度数\n",
    "    bound：每个维度的取值范围,shape为[D,2]\n",
    "    N：待采样点个数     \n",
    "    '''\n",
    "    result = np.empty([N,D])\n",
    "    tmp = np.empty([N])\n",
    "    d  = 1 / N # 用来平分每个区间\n",
    "    \n",
    "    # 仅在【0，1】区间内进行采样，随后根据bound拉伸数据\n",
    "    for i in range(D):\n",
    "        for j in range(N):\n",
    "            tmp[j] = np.random.uniform(low=j*d,high=(j+1)*d)\n",
    "        np.random.shuffle(tmp)\n",
    "        result[:,i] = tmp\n",
    "#     print(result)\n",
    "    lower_bounds = bound[:,0]\n",
    "    upper_bounds = bound[:,1]\n",
    "    result = result*(upper_bounds-lower_bounds)+lower_bounds\n",
    "    return result"
   ]
  },
  {
   "cell_type": "code",
   "execution_count": 47,
   "metadata": {},
   "outputs": [
    {
     "data": {
      "text/plain": [
       "array([[ 9.94602341, 22.10282114],\n",
       "       [14.3683644 ,  7.80896036],\n",
       "       [ 3.92530067,  4.68838208],\n",
       "       [ 8.56729346, 10.27809591],\n",
       "       [ 6.99822372, 24.67341567],\n",
       "       [10.88047132, 13.12271654],\n",
       "       [17.57290268, 16.92842814],\n",
       "       [12.69622782, 12.31073809],\n",
       "       [16.91327716, 17.1879733 ],\n",
       "       [15.76557497, 14.75921896],\n",
       "       [ 2.55996015, 27.08651111],\n",
       "       [ 5.49432818, 27.48582272],\n",
       "       [ 1.84028319, 19.10566472],\n",
       "       [ 6.55951962,  6.47628351],\n",
       "       [ 3.0492879 , 29.13803597],\n",
       "       [13.61231848, 20.21374385],\n",
       "       [19.66231817, 22.98430433],\n",
       "       [ 9.08023856,  7.93818353],\n",
       "       [18.31518527, 25.28097212],\n",
       "       [11.47713527, 11.17267077]])"
      ]
     },
     "execution_count": 47,
     "metadata": {},
     "output_type": "execute_result"
    }
   ],
   "source": [
    "bounds = np.array([[1,20],[4,30]])\n",
    "lHSample(2,bounds,20)"
   ]
  },
  {
   "cell_type": "code",
   "execution_count": 48,
   "metadata": {
    "scrolled": true
   },
   "outputs": [
    {
     "data": {
      "text/plain": [
       "<matplotlib.collections.PathCollection at 0x2303fe998c8>"
      ]
     },
     "execution_count": 48,
     "metadata": {},
     "output_type": "execute_result"
    },
    {
     "data": {
      "image/png": "[encoded data removed]",
      "text/plain": [
       "<Figure size 432x288 with 1 Axes>"
      ]
     },
     "metadata": {
      "needs_background": "light"
     },
     "output_type": "display_data"
    }
   ],
   "source": [
    "ax = plt.gca()\n",
    "plt.xlim(bounds[0,0],bounds[0,1])\n",
    "plt.ylim(bounds[1,0],bounds[1,1])\n",
    "plt.grid()\n",
    "ax.xaxis.set_major_locator(MultipleLocator((bounds[0][1] - bounds[0][0])/20))\n",
    "ax.yaxis.set_major_locator(MultipleLocator((bounds[1][1] - bounds[1][0])/20))\n",
    "result = lHSample(2,bounds,20)\n",
    "plt.scatter(result[:,0],result[:,1])"
   ]
  },
  {
   "cell_type": "code",
   "execution_count": null,
   "metadata": {},
   "outputs": [],
   "source": []
  }
 ],
 "metadata": {
  "kernelspec": {
   "display_name": "Python 3",
   "language": "python",
   "name": "python3"
  },
  "language_info": {
   "codemirror_mode": {
    "name": "ipython",
    "version": 3
   },
   "file_extension": ".py",
   "mimetype": "text/x-python",
   "name": "python",
   "nbconvert_exporter": "python",
   "pygments_lexer": "ipython3",
   "version": "3.7.6"
  }
 },
 "nbformat": 4,
 "nbformat_minor": 4
}
